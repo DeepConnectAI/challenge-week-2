{
 "cells": [
  {
   "cell_type": "markdown",
   "metadata": {},
   "source": [
    "# DeepConnect-challenge-week-2"
   ]
  },
  {
   "cell_type": "markdown",
   "metadata": {},
   "source": [
    "### Simple Linear Regression\n",
    "Aim of this lab is to understand the linear trend of the data and generalise that pattern using a simple linear regression model"
   ]
  },
  {
   "cell_type": "markdown",
   "metadata": {},
   "source": [
    "y = Mx + c"
   ]
  },
  {
   "cell_type": "markdown",
   "metadata": {},
   "source": [
    "### Dataset\n",
    "The dataset is available at \"data/simple_linear_data.csv\" in the respective challenge's repo."
   ]
  },
  {
   "cell_type": "markdown",
   "metadata": {},
   "source": [
    "This is the modified version of the dataset 'Student Performance' provided by UCI Machine Learning repository.\n",
    "Original dataset: https://archive.ics.uci.edu/ml/datasets/student+performance"
   ]
  },
  {
   "cell_type": "markdown",
   "metadata": {},
   "source": [
    "#### input features\n",
    "- G2 - second year math grades (numeric: from 0 to 100)"
   ]
  },
  {
   "cell_type": "markdown",
   "metadata": {},
   "source": [
    "#### target features\n",
    "- G3 - final year math grades (numeric: from 0 to 100, output target)"
   ]
  },
  {
   "cell_type": "markdown",
   "metadata": {},
   "source": [
    "### Objective\n",
    "To impliment a single linear regression model from scratch"
   ]
  },
  {
   "cell_type": "markdown",
   "metadata": {},
   "source": [
    "### Tasks\n",
    "- Read the data into a numy array from the provided datasets\n",
    "- Visualise the data using matplotlib\n",
    "- Preprocess the data by standarizing it\n",
    "- Write code to predict G3 for a given set of weights and input G2\n",
    "- Write a function to calculate the loss fot given set of weights , input G2 and actual output G3\n",
    "- Write a function to calculate the gradient for given set of weights , input G2 and actual output G3\n",
    "- Write a function to perform gradient decent for given set of input G2 and actual output G3"
   ]
  },
  {
   "cell_type": "markdown",
   "metadata": {},
   "source": [
    "### Further Fun\n",
    "- Split the data in x_train,x_test,y_train,y_test\n",
    "- Perform validation on x_test\n",
    "- impliment the code for multivariate linear regression"
   ]
  },
  {
   "cell_type": "markdown",
   "metadata": {},
   "source": [
    "### Resources\n",
    "- Linear regression maths https://www.youtube.com/watch?v=ZkjP5RJLQF4\n",
    "- simple linear regression https://www.youtube.com/watch?v=iAgYLRy7e20\n",
    "- tutorial https://machinelearningmastery.com/implement-simple-linear-regression-scratch-python/#:~:text=Simple%20linear%20regression%20is%20a,algorithm%20from%20scratch%20in%20Python.\n"
   ]
  },
  {
   "cell_type": "code",
   "execution_count": 1,
   "metadata": {},
   "outputs": [],
   "source": [
    "import numpy as np\n",
    "import matplotlib.pyplot as plt\n",
    "import pandas as pd"
   ]
  },
  {
   "cell_type": "markdown",
   "metadata": {},
   "source": [
    "## reading training data"
   ]
  },
  {
   "cell_type": "code",
   "execution_count": null,
   "metadata": {},
   "outputs": [],
   "source": []
  },
  {
   "cell_type": "markdown",
   "metadata": {},
   "source": [
    "## visualising data"
   ]
  },
  {
   "cell_type": "code",
   "execution_count": null,
   "metadata": {},
   "outputs": [],
   "source": []
  },
  {
   "cell_type": "markdown",
   "metadata": {},
   "source": [
    "## preprocessing data"
   ]
  },
  {
   "cell_type": "code",
   "execution_count": null,
   "metadata": {},
   "outputs": [],
   "source": []
  },
  {
   "cell_type": "markdown",
   "metadata": {},
   "source": [
    "## linear regression "
   ]
  },
  {
   "cell_type": "code",
   "execution_count": 4,
   "metadata": {},
   "outputs": [],
   "source": [
    "def hypothesis(x,theta):\n",
    "    # write code to predict G3 for a given set of weights and input G2\n",
    "    pass"
   ]
  },
  {
   "cell_type": "code",
   "execution_count": 5,
   "metadata": {},
   "outputs": [],
   "source": [
    "def error(X,Y,theta) : \n",
    "    # write a function to calculate the loss fot given set of weights , input G2 and actual output G3\n",
    "    pass"
   ]
  },
  {
   "cell_type": "code",
   "execution_count": 6,
   "metadata": {},
   "outputs": [],
   "source": [
    "def gradient(X,Y,theta):\n",
    "    #  write a function to calculate the gradient for given set of weights , input G2 and actual output G3\n",
    "    pass"
   ]
  },
  {
   "cell_type": "code",
   "execution_count": 7,
   "metadata": {},
   "outputs": [],
   "source": [
    "def gradient_descent(X,Y,lr=0.1,max_itr=100):\n",
    "    #  write a function to perform gradient decent for given set of input G2 and actual output G3\n",
    "    #  write a function to perform gradient decent for given set of input G2 and actual output G3\n",
    "    pass"
   ]
  },
  {
   "cell_type": "code",
   "execution_count": null,
   "metadata": {},
   "outputs": [],
   "source": [
    "opt_theta = gradient_descent(x_train,y_train)"
   ]
  },
  {
   "cell_type": "code",
   "execution_count": null,
   "metadata": {},
   "outputs": [],
   "source": [
    "y_pred = hypothesis(x_train,opt_theta)"
   ]
  }
 ],
 "metadata": {
  "kernelspec": {
   "display_name": "Python 3",
   "language": "python",
   "name": "python3"
  },
  "language_info": {
   "codemirror_mode": {
    "name": "ipython",
    "version": 3
   },
   "file_extension": ".py",
   "mimetype": "text/x-python",
   "name": "python",
   "nbconvert_exporter": "python",
   "pygments_lexer": "ipython3",
   "version": "3.8.3"
  }
 },
 "nbformat": 4,
 "nbformat_minor": 4
}
